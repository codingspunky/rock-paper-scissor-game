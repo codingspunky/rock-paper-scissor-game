{
 "cells": [
  {
   "cell_type": "code",
   "execution_count": 43,
   "id": "66893a01",
   "metadata": {},
   "outputs": [
    {
     "name": "stdout",
     "output_type": "stream",
     "text": [
      "Game rules to win\n",
      " *scissor vs paper = sicssor wins\n",
      " *paper vs rock = paper wins\n",
      " *rock vs scissor = rock wins\n",
      " *rock vs rock = none win\n",
      " *paper vs paper = none win\n",
      " *scissor vs scissor = none win\n",
      "\n",
      "Enter a choice:\n",
      " 1.rock\n",
      " 2.paper\n",
      " 3.scissor\n",
      "\n",
      "your choice 3\n",
      "User choice is  scissors\n",
      "\n",
      "Now its Computers Turn....\n",
      "\n",
      "computer action is  scissors\n",
      "No one is the winner😒\n",
      "do you wanna play again(yes/no) no\n"
     ]
    }
   ],
   "source": [
    "import random\n",
    "\n",
    "print(\"Game rules to win\\n\"\n",
    "      ,\"*scissor vs paper = sicssor wins\\n\"\n",
    "      ,\"*paper vs rock = paper wins\\n\"\n",
    "      ,\"*rock vs scissor = rock wins\\n\"\n",
    "      ,\"*rock vs rock = none win\\n\"\n",
    "      ,\"*paper vs paper = none win\\n\"\n",
    "      ,\"*scissor vs scissor = none win\\n\")\n",
    "\n",
    "while(True):\n",
    "    print(\"Enter a choice:\\n\",\"1.rock\\n\",\n",
    "            \"2.paper\\n\",\"3.scissor\\n\")\n",
    "    user_action = int(input(\"your choice \"))\n",
    "\n",
    "    possible_actions = [\"rock\", \"paper\", \"scissors\"]\n",
    "\n",
    "    print('User choice is ',possible_actions[int(user_action)-1])\n",
    "\n",
    "    print('\\nNow its Computers Turn....')\n",
    "    computer_action = random.choice([1,2,3])\n",
    "\n",
    "    print(\"\")\n",
    "    print(\"computer action is \",possible_actions[int(computer_action)-1])\n",
    "    if user_action==computer_action:\n",
    "        print(\"No one is the winner😒\")\n",
    "    elif user_action==1 and computer_action ==3:\n",
    "        print(\"you won!!!🥳🥳\")\n",
    "    elif user_action==2 and computer_action ==1:\n",
    "        print(\"you won!!!🥳🥳\")\n",
    "    elif user_action==3 and computer_action ==2:\n",
    "        print(\"you won!!!🥳🥳\")\n",
    "    else:\n",
    "        print(\"computer won🤦‍♀️\")\n",
    "\n",
    "    ans=input(\"do you wanna play again(yes/no) \")\n",
    "    \n",
    "    if ans==\"no\":\n",
    "        break\n",
    "\n"
   ]
  },
  {
   "cell_type": "code",
   "execution_count": null,
   "id": "adf8f490",
   "metadata": {},
   "outputs": [],
   "source": []
  },
  {
   "cell_type": "code",
   "execution_count": null,
   "id": "a17da89e",
   "metadata": {},
   "outputs": [],
   "source": []
  }
 ],
 "metadata": {
  "kernelspec": {
   "display_name": "Python 3 (ipykernel)",
   "language": "python",
   "name": "python3"
  },
  "language_info": {
   "codemirror_mode": {
    "name": "ipython",
    "version": 3
   },
   "file_extension": ".py",
   "mimetype": "text/x-python",
   "name": "python",
   "nbconvert_exporter": "python",
   "pygments_lexer": "ipython3",
   "version": "3.10.9"
  }
 },
 "nbformat": 4,
 "nbformat_minor": 5
}
